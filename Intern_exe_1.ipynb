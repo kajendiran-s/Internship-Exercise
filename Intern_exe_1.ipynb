{
 "cells": [
  {
   "cell_type": "code",
   "execution_count": 2,
   "metadata": {},
   "outputs": [],
   "source": [
    "from bs4 import BeautifulSoup\n",
    "\n",
    "import json"
   ]
  },
  {
   "cell_type": "code",
   "execution_count": 3,
   "metadata": {},
   "outputs": [
    {
     "name": "stdout",
     "output_type": "stream",
     "text": [
      "{'capitals': [{'capital': 'Lansing', 'state': 'Michigan  '}, {'capital': 'Sacramento', 'state': 'California'}], 'summary': {'numberOfCapitals': 2}}\n"
     ]
    }
   ],
   "source": [
    "HTMLFile = open(r'C:\\Users\\kajendiran.s\\Downloads\\Intern_exercise_1\\index.html',\"r\")\n",
    "\n",
    "index = HTMLFile.read()\n",
    "\n",
    "s = BeautifulSoup(index,'html.parser')\n",
    "\n",
    "cityList = s.find_all(\"li\")\n",
    "capitalCount = 0\n",
    "cities = []\n",
    "for city in cityList:\n",
    "    capital = city.find(\"strong\",attrs={\"class\":\"capital\"})\n",
    "    if capital != None:\n",
    "        capitalCount += 1\n",
    "    state = city.find(\"span\",attrs={\"class\":\"state\"})\n",
    "    city = {\"capital\":capital.text,\"state\":state.text}\n",
    "    cities.append(city)\n",
    "\n",
    "capitalDict = {\n",
    "    \"capitals\":cities,\"summary\":{\"numberOfCapitals\":capitalCount}\n",
    "}\n",
    "print(capitalDict)\n",
    "\n",
    "with open(\"result1.json\", \"w\") as f:\n",
    "    json.dump(capitalDict,f,indent=\"\\t\")"
   ]
  }
 ],
 "metadata": {
  "kernelspec": {
   "display_name": "Python 3.12.1 64-bit",
   "language": "python",
   "name": "python3"
  },
  "language_info": {
   "codemirror_mode": {
    "name": "ipython",
    "version": 3
   },
   "file_extension": ".py",
   "mimetype": "text/x-python",
   "name": "python",
   "nbconvert_exporter": "python",
   "pygments_lexer": "ipython3",
   "version": "3.12.1"
  },
  "orig_nbformat": 4,
  "vscode": {
   "interpreter": {
    "hash": "03a53a23650aede1e45dec281881f01d4afc6b4c4a4da34b8d80c98a236b7c83"
   }
  }
 },
 "nbformat": 4,
 "nbformat_minor": 2
}
